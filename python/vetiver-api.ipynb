{
  "cells": [
    {
      "cell_type": "raw",
      "metadata": {},
      "source": [
        "---\n",
        "title: VetiverAPI\n",
        "format: html\n",
        "---"
      ],
      "id": "f68f9332"
    },
    {
      "cell_type": "markdown",
      "metadata": {},
      "source": [
        "This tutorial shows you how to use `VetiverAPI()` with its core features, step by step.\n",
        "\n",
        "## Minimal deployment\n",
        "\n",
        "The simplest VetiverAPI deployment includes a trained model with a `predict` method, inside a **VetiverModel**."
      ],
      "id": "933cd69b"
    },
    {
      "cell_type": "code",
      "metadata": {},
      "source": [
        "from vetiver import mock, VetiverModel, VetiverAPI\n",
        "\n",
        "X, y = mock.get_mock_data()\n",
        "model = mock.get_mock_model().fit(X, y)\n",
        "\n",
        "v = VetiverModel(model = model, save_ptype = True, ptype_data = X)\n",
        "\n",
        "my_api = VetiverAPI(v)\n",
        "my_api.run()"
      ],
      "id": "8582519d",
      "execution_count": null,
      "outputs": []
    },
    {
      "cell_type": "markdown",
      "metadata": {},
      "source": [
        "_(This script is complete, it should run \"as is\")_\n",
        "\n",
        "!!! note\n",
        "\n",
        "    In this example, Vetiver is invoking a data prototype, or `ptype`, which requires sample data to create. This is an optional configuration, but it creates more verbose documentation within the API, as well as allows for some basic type-checking within the API itself. To turn this off, set `save_ptype = False`.\n",
        "\n",
        "In the output, there will be a line with something similar to:\n",
        "\n",
        "```{bash}\n",
        "INFO:     Uvicorn running on http://127.0.0.1:8000 (Press CTRL+C to quit)\n",
        "```\n",
        "\n",
        "Follow the link to the API at [http://127.0.0.1:8000](http://127.0.0.1:8000). You will be redirected to the automatic API documentation provided by [Rapidoc](https://mrin9.github.io/RapiDoc/). From there, you can send requests to your model, see example `curl` commands, and interact with your API.\n",
        "\n",
        "## Multiple endpoints\n",
        "\n",
        "More advanced use cases may require multiple endpoints to be created for pre-processing or post-processing data. You can use `vetiver_post()` to create a new `POST` endpoint that implements a custom function. In the example below, the endpoint \"new_endpoint\" sums all the input data.\n",
        "\n",
        "!!! note\n",
        "\n",
        "    The method `vetiver_post()` currently handles all data as a [Series](https://pandas.pydata.org/docs/reference/api/pandas.Series.html) type."
      ],
      "id": "37951137"
    },
    {
      "cell_type": "code",
      "metadata": {},
      "source": [
        "from vetiver import mock, VetiverModel, VetiverAPI\n",
        "\n",
        "X, y = mock.get_mock_data()\n",
        "model = mock.get_mock_model().fit(X, y)\n",
        "\n",
        "v = VetiverModel(model = model, save_ptype = True, ptype_data = X)\n",
        "\n",
        "my_api = VetiverAPI(v)\n",
        "\n",
        "# new endpoint\n",
        "def sum_numbers(x):\n",
        "    return x.sum()\n",
        "\n",
        "my_api.vetiver_post(endpoint_fx = sum_numbers, endpoint_name = \"new_endpoint\")\n",
        "\n",
        "my_api.run()"
      ],
      "id": "bd9efad7",
      "execution_count": null,
      "outputs": []
    },
    {
      "cell_type": "markdown",
      "metadata": {},
      "source": [
        "_(This script is complete, it should run \"as is\")_"
      ],
      "id": "47b9216d"
    }
  ],
  "metadata": {
    "kernelspec": {
      "name": "python3",
      "language": "python",
      "display_name": "Python 3 (ipykernel)"
    }
  },
  "nbformat": 4,
  "nbformat_minor": 5
}