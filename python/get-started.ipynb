{
  "cells": [
    {
      "cell_type": "raw",
      "metadata": {},
      "source": [
        "---\n",
        "title: Get started\n",
        "format: html\n",
        "---"
      ],
      "id": "1ca27eb1"
    },
    {
      "cell_type": "markdown",
      "metadata": {},
      "source": [
        "`vetiver` is an MLOps framework intended to extend a data science workflow to deployment after a model has been created.\n",
        "\n",
        "## Installation\n",
        "\n",
        "vetiver can be installed via pip with [PyPI](https://pypi.org/project/vetiver/).\n",
        "\n",
        "`pip install vetiver`\n",
        "\n",
        "You can also install the development version from GitHub.\n",
        "\n",
        "`pip install git+https://github.com/isabelizimm/vetiver`\n",
        "\n",
        "## Get started\n",
        "\n",
        "Vetiver focuses on two main objects: `VetiverModel()` and `VetiverAPI()`. A **VetiverModel** collects all the information needed for deploying a trained model, while a **VetiverAPI** deploys the model to a REST endpoint. The example below shows a minimal deployment of an arbitrary model."
      ],
      "id": "910bfd3c"
    },
    {
      "cell_type": "code",
      "metadata": {},
      "source": [
        "from vetiver import mock, VetiverModel, VetiverAPI\n",
        "\n",
        "X, y = mock.get_mock_data()\n",
        "model = mock.get_mock_model().fit(X, y)\n",
        "\n",
        "v = VetiverModel(model, save_ptype= True, ptype_data=X)\n",
        "\n",
        "my_api = VetiverAPI(v)\n",
        "my_api.run()"
      ],
      "id": "a3efc84a",
      "execution_count": null,
      "outputs": []
    },
    {
      "cell_type": "markdown",
      "metadata": {},
      "source": [
        "_(This script is complete, it should run \"as is\")_"
      ],
      "id": "bfc82a03"
    }
  ],
  "metadata": {
    "kernelspec": {
      "name": "python3",
      "language": "python",
      "display_name": "Python 3 (ipykernel)"
    }
  },
  "nbformat": 4,
  "nbformat_minor": 5
}